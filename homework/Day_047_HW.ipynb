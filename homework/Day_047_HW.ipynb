{
 "cells": [
  {
   "cell_type": "markdown",
   "metadata": {},
   "source": [
    "## [作業重點]\n",
    "了解如何使用 Sklearn 中的 hyper-parameter search 找出最佳的超參數"
   ]
  },
  {
   "cell_type": "markdown",
   "metadata": {},
   "source": [
    "### 作業\n",
    "請使用不同的資料集，並使用 hyper-parameter search 的方式，看能不能找出最佳的超參數組合"
   ]
  },
  {
   "cell_type": "code",
   "execution_count": 40,
   "metadata": {},
   "outputs": [],
   "source": [
    "from sklearn import datasets, metrics\n",
    "from sklearn.model_selection import train_test_split, KFold, GridSearchCV\n",
    "from sklearn.ensemble import GradientBoostingClassifier"
   ]
  },
  {
   "cell_type": "code",
   "execution_count": 47,
   "metadata": {},
   "outputs": [
    {
     "name": "stdout",
     "output_type": "stream",
     "text": [
      "[8 7 0 5 3 5 1 3 1 8 2 7 8 4 7 7 8 3 0 6 9 7 8 0 8 6 8 1 0 0 0 2 7 0 1 7 6\n",
      " 3 1 3 4 2 9 1 2 0 0 7 3 3 2 9 7 6 1 8 5 8 6 7 5 6 9 3 3 4 1 9 7 8 4 5 0 4\n",
      " 1 6 6 7 8 1 2 6 9 1 7 4 2 6 7 3 7 5 4 8 5 1 5 6 7 1 2 5 5 2 0 8 5 2 2 3 0\n",
      " 4 5 6 9 3 9 5 7 4 7 8 9 4 9 7 9 7 9 4 3 0 5 4 9 2 8 2 9 6 2 6 0 5 5 8 9 2\n",
      " 5 3 4 4 2 0 9 8 4 3 6 6 2 9 7 1 5 7 6 0 5 3 2 3 1 3 2 6 6 0 8 2 5 7 6 8 4\n",
      " 6 2 2 0 4 0 3 0 4 0 1 5 6 4 7 1 5 4 5 5 3 4 4 6 3 7 1 1 3 5 7 5 0 1 9 5 0\n",
      " 8 7 4 0 6 6 5 0 2 4 2 9 4 0 6 2 5 1 9 6 3 9 0 8 3 1 2 1 3 2 0 9 0 7 5 9 1\n",
      " 8 6 9 6 8 8 6 2 4 5 9 9 1 5 2 8 4 7 9 8 8 0 1 7 3 2 2 1 0 3 2 3 9 7 2 0 0\n",
      " 1 2 6 0 9 9 7 8 5 4 0 0 1 5 7 1 0 3 9 8 5 4 7 0 4 9 5 6 0 8 2 0 5 2 3 2 2\n",
      " 4 2 8 7 5 8 8 6 9 2 6 4 5 9 5 4 1 7 1 7 3 4 8 5 4 3 7 7 5 6 3 7 8 6 0 3 5\n",
      " 2 3 8 0 0 7 8 3 9 0 0 2 2 9 7 4 3 9 3 1 2 9 1 0 1 3 9 8 9 9 5 5 0 1 5 4 4\n",
      " 9 2 8 1 6 5 4 6 3 8 3 9 1 2 8 9 1 7 5 7 9 8 9 3 8 0 2 5 7 7 9 8 8 2 5 9 0\n",
      " 4 7 9 8 7 5]\n"
     ]
    }
   ],
   "source": [
    "# 讀取digits資料集\n",
    "digits= datasets.load_digits()\n",
    "\n",
    "# 切分訓練集/測試集\n",
    "x_train, x_test, y_train, y_test = train_test_split(digits.data, digits.target, test_size=0.25, random_state=4)\n",
    "\n",
    "# 建立模型\n",
    "clf = GradientBoostingClassifier()\n",
    "\n",
    "# 訓練模型\n",
    "clf.fit(x_train, y_train)\n",
    "\n",
    "# 預測測試集\n",
    "y_pred = clf.predict(x_test)\n",
    "print(y_pred)"
   ]
  },
  {
   "cell_type": "code",
   "execution_count": 48,
   "metadata": {},
   "outputs": [
    {
     "name": "stdout",
     "output_type": "stream",
     "text": [
      "Acuuracy:  0.9688888888888889\n"
     ]
    }
   ],
   "source": [
    "acc = metrics.accuracy_score(y_test, y_pred)\n",
    "print(\"Acuuracy: \", acc)"
   ]
  },
  {
   "cell_type": "code",
   "execution_count": 53,
   "metadata": {
    "scrolled": true
   },
   "outputs": [
    {
     "name": "stdout",
     "output_type": "stream",
     "text": [
      "Fitting 10 folds for each of 16 candidates, totalling 160 fits\n"
     ]
    },
    {
     "name": "stderr",
     "output_type": "stream",
     "text": [
      "[Parallel(n_jobs=-1)]: Using backend LokyBackend with 8 concurrent workers.\n",
      "[Parallel(n_jobs=-1)]: Done  25 tasks      | elapsed:   11.0s\n",
      "[Parallel(n_jobs=-1)]: Done 160 out of 160 | elapsed:  1.6min finished\n"
     ]
    }
   ],
   "source": [
    "# 設定要訓練的超參數組合\n",
    "n_estimators = [100, 200, 300, 400]\n",
    "max_depth = [1, 3, 5, 7]\n",
    "param_grid = dict(n_estimators=n_estimators, max_depth=max_depth)\n",
    "\n",
    "## 建立搜尋物件，放入模型及參數組合字典 (n_jobs=-1 會使用全部 cpu 平行運算)\n",
    "grid_search = GridSearchCV(clf, param_grid,cv=10, scoring=\"accuracy\", n_jobs=-1, verbose=2)\n",
    "\n",
    "# 開始搜尋最佳參數\n",
    "grid_result = grid_search.fit(x_train, y_train)\n",
    "\n",
    "# 預設會跑 10-fold cross-validadtion，總共 16 種參數組合，總共要 train 160 次模型"
   ]
  },
  {
   "cell_type": "code",
   "execution_count": 54,
   "metadata": {},
   "outputs": [
    {
     "name": "stdout",
     "output_type": "stream",
     "text": [
      "Best Accuracy: 0.960653 using {'n_estimators': 400, 'max_depth': 3}\n"
     ]
    }
   ],
   "source": [
    "# 印出最佳結果與最佳參數\n",
    "print(\"Best Accuracy: %f using %s\" % (grid_result.best_score_, grid_result.best_params_))"
   ]
  },
  {
   "cell_type": "code",
   "execution_count": 55,
   "metadata": {},
   "outputs": [
    {
     "name": "stdout",
     "output_type": "stream",
     "text": [
      "[8 7 0 5 3 5 1 3 1 8 2 7 8 4 7 7 8 3 0 6 9 7 8 0 8 6 8 1 0 0 0 2 7 0 1 7 6\n",
      " 3 1 3 4 2 9 1 2 0 0 7 3 3 2 9 7 6 1 8 5 8 6 7 5 6 9 3 3 4 1 9 7 8 4 5 0 4\n",
      " 1 6 6 7 8 1 2 6 9 1 7 4 2 6 7 3 7 5 4 8 5 1 5 6 7 1 2 5 5 2 0 8 5 2 2 3 0\n",
      " 4 5 6 9 3 9 5 7 4 7 8 9 4 9 7 9 7 9 4 3 0 5 4 9 2 6 2 9 6 2 6 0 5 5 8 9 2\n",
      " 5 3 4 4 2 0 9 8 4 3 6 6 2 9 7 1 5 7 6 0 5 3 2 3 1 3 2 6 6 0 8 2 5 7 6 8 4\n",
      " 6 2 2 0 4 0 3 0 4 0 1 5 6 4 7 1 5 4 5 5 3 4 4 6 3 7 1 1 3 5 7 5 0 1 9 5 0\n",
      " 8 7 4 0 6 6 5 0 2 4 2 9 4 0 6 2 5 1 9 6 3 9 0 8 3 1 2 1 3 2 0 9 0 7 5 9 1\n",
      " 8 6 9 6 8 8 6 2 4 5 9 9 1 5 2 8 4 7 9 8 8 0 1 7 3 2 2 1 0 3 2 3 9 7 2 0 0\n",
      " 1 2 6 0 9 9 7 8 5 4 0 0 1 5 7 1 0 3 9 8 5 4 7 0 4 9 5 6 0 8 2 0 5 2 3 2 2\n",
      " 4 2 8 7 5 8 8 6 9 2 6 4 5 9 5 4 1 7 1 7 3 4 8 5 4 3 7 7 5 6 3 7 8 6 0 3 5\n",
      " 2 3 8 0 0 7 8 3 9 0 0 2 2 9 7 4 3 9 3 1 2 9 1 0 1 3 9 8 9 9 5 5 0 1 5 4 4\n",
      " 9 2 8 1 6 5 4 6 3 8 3 9 1 2 0 9 1 7 5 7 9 8 9 3 8 0 2 5 7 7 9 8 8 2 5 9 0\n",
      " 4 7 9 8 7 5]\n"
     ]
    }
   ],
   "source": [
    "# 使用最佳參數重新建立模型\n",
    "clf_bestparam = GradientBoostingClassifier(max_depth=grid_result.best_params_['max_depth'],\n",
    "                                           n_estimators=grid_result.best_params_['n_estimators'])\n",
    "\n",
    "# 訓練模型\n",
    "clf_bestparam.fit(x_train, y_train)\n",
    "\n",
    "# 預測測試集\n",
    "y_pred = clf_bestparam.predict(x_test)\n",
    "print(y_pred)"
   ]
  },
  {
   "cell_type": "code",
   "execution_count": 57,
   "metadata": {},
   "outputs": [
    {
     "name": "stdout",
     "output_type": "stream",
     "text": [
      "Acuuracy:  0.9711111111111111\n"
     ]
    }
   ],
   "source": [
    "acc = metrics.accuracy_score(y_test, y_pred)\n",
    "print(\"Acuuracy: \", acc)"
   ]
  },
  {
   "cell_type": "code",
   "execution_count": null,
   "metadata": {},
   "outputs": [],
   "source": []
  }
 ],
 "metadata": {
  "kernelspec": {
   "display_name": "Python 3",
   "language": "python",
   "name": "python3"
  },
  "language_info": {
   "codemirror_mode": {
    "name": "ipython",
    "version": 3
   },
   "file_extension": ".py",
   "mimetype": "text/x-python",
   "name": "python",
   "nbconvert_exporter": "python",
   "pygments_lexer": "ipython3",
   "version": "3.5.2"
  }
 },
 "nbformat": 4,
 "nbformat_minor": 2
}
